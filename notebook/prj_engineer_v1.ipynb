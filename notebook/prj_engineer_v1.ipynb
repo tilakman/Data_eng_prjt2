{
 "cells": [
  {
   "cell_type": "code",
   "execution_count": 20,
   "metadata": {},
   "outputs": [
    {
     "output_type": "stream",
     "name": "stderr",
     "text": [
      "[nltk_data] Downloading package stopwords to\n[nltk_data]     C:\\Users\\nana-\\AppData\\Roaming\\nltk_data...\n[nltk_data]   Package stopwords is already up-to-date!\n"
     ]
    }
   ],
   "source": [
    "import pickle\n",
    "import pandas as pd\n",
    "import numpy as np\n",
    "import nltk\n",
    "nltk.download('stopwords')\n",
    "from nltk.corpus import stopwords\n",
    "from sklearn.metrics.pairwise import linear_kernel\n",
    "from sklearn.feature_extraction.text import CountVectorizer\n",
    "from sklearn.feature_extraction.text import TfidfVectorizer\n",
    "from nltk.tokenize import RegexpTokenizer\n",
    "import re\n",
    "import string\n",
    "import random\n",
    "from PIL import Image\n",
    "import requests\n",
    "from io import BytesIO\n",
    "import matplotlib.pyplot as plt\n",
    "%matplotlib inline\n",
    "from sklearn.metrics.pairwise import cosine_similarity\n",
    "from gensim.models import Word2Vec\n",
    "from gensim.models.phrases import Phrases, Phraser\n",
    "from matplotlib import pyplot\n",
    "from gensim.models import KeyedVectors"
   ]
  },
  {
   "cell_type": "code",
   "execution_count": 7,
   "metadata": {},
   "outputs": [],
   "source": [
    "pd.set_option('display.max_colwidth', -1)\n",
    "df = pd.read_csv(\"../data/tweets_1.csv\")"
   ]
  },
  {
   "cell_type": "code",
   "execution_count": 8,
   "metadata": {},
   "outputs": [
    {
     "output_type": "stream",
     "name": "stdout",
     "text": [
      "2    The media and establishment want me out of the race so badly -  I WILL NEVER DROP OUT OF THE RACE, WILL NEVER LET MY SUPPORTERS DOWN! #MAGA\nName: text, dtype: object\n"
     ]
    }
   ],
   "source": [
    "x= df['text'][df['Unnamed: 0']==2]\n",
    "print(x)"
   ]
  },
  {
   "cell_type": "code",
   "execution_count": 9,
   "metadata": {},
   "outputs": [
    {
     "output_type": "execute_result",
     "data": {
      "text/plain": [
       "   Unnamed: 0           date                  id  \\\n",
       "0  0           Oct 7          784609194234306560   \n",
       "1  1           Oct 10         785608815962099712   \n",
       "2  2           Oct 8          784840992734064640   \n",
       "3  3           Oct 8          784767399442653184   \n",
       "4  4           Oct 10         785561269571026944   \n",
       "5  5           4h4 hours ago  786950598826532864   \n",
       "6  6           Oct 13         786589172911964160   \n",
       "7  7           Oct 12         786340623804751872   \n",
       "8  8           Oct 12         786201435486781440   \n",
       "9  9           Oct 11         786054986534969344   \n",
       "\n",
       "                                         link  retweet  \\\n",
       "0  /realDonaldTrump/status/784609194234306560  False     \n",
       "1  /realDonaldTrump/status/785608815962099712  False     \n",
       "2  /realDonaldTrump/status/784840992734064641  False     \n",
       "3  /realDonaldTrump/status/784767399442653184  False     \n",
       "4  /realDonaldTrump/status/785561269571026946  False     \n",
       "5  /realDonaldTrump/status/786950598826532864  False     \n",
       "6  /realDonaldTrump/status/786589172911964161  False     \n",
       "7  /realDonaldTrump/status/786340623804751872  False     \n",
       "8  /realDonaldTrump/status/786201435486781440  False     \n",
       "9  /realDonaldTrump/status/786054986534969344  False     \n",
       "\n",
       "                                                                                                                                                                                                         text  \\\n",
       "0  Here is my statement.pic.twitter.com/WAZiGoQqMQ                                                                                                                                                              \n",
       "1  Is this really America? Terrible!pic.twitter.com/WiwC61PIFu                                                                                                                                                  \n",
       "2  The media and establishment want me out of the race so badly -  I WILL NEVER DROP OUT OF THE RACE, WILL NEVER LET MY SUPPORTERS DOWN! #MAGA                                                                  \n",
       "3  Certainly has been an interesting 24 hours!                                                                                                                                                                  \n",
       "4  Debate polls look great - thank you!\\r\\n#MAGA #AmericaFirstpic.twitter.com/4peQ3Sswdz                                                                                                                        \n",
       "5  WHAT THEY ARE SAYING ABOUT THE CLINTON CAMPAIGN’S ANTI-CATHOLIC BIGOTRY: \\r\\nhttp://bit.ly/2dcbtvkCrooked                                                                                                    \n",
       "6  Thank you! #MAGA #AmericaFirstpic.twitter.com/fG313wjlKm                                                                                                                                                     \n",
       "7  I will be in Cincinnati, Ohio tomorrow night at 7:30pm- join me! #OhioVotesEarly #VoteTrumpPence16 \\r\\nTickets: https://www.donaldjtrump.com/schedule/register/cincinnati-oh2/ …pic.twitter.com/XUFuGc4Fg5   \n",
       "8  Very little pick-up by the dishonest media of incredible information provided by WikiLeaks. So dishonest! Rigged system!                                                                                     \n",
       "9  Thank you Florida- a MOVEMENT that has never been seen before and will never be seen again. Lets get out & #VoteTrumpPence16 on 11/8! #MAGApic.twitter.com/e90a2AL7vO                                        \n",
       "\n",
       "        author  \n",
       "0  DonaldTrump  \n",
       "1  DonaldTrump  \n",
       "2  DonaldTrump  \n",
       "3  DonaldTrump  \n",
       "4  DonaldTrump  \n",
       "5  DonaldTrump  \n",
       "6  DonaldTrump  \n",
       "7  DonaldTrump  \n",
       "8  DonaldTrump  \n",
       "9  DonaldTrump  "
      ],
      "text/html": "<div>\n<style scoped>\n    .dataframe tbody tr th:only-of-type {\n        vertical-align: middle;\n    }\n\n    .dataframe tbody tr th {\n        vertical-align: top;\n    }\n\n    .dataframe thead th {\n        text-align: right;\n    }\n</style>\n<table border=\"1\" class=\"dataframe\">\n  <thead>\n    <tr style=\"text-align: right;\">\n      <th></th>\n      <th>Unnamed: 0</th>\n      <th>date</th>\n      <th>id</th>\n      <th>link</th>\n      <th>retweet</th>\n      <th>text</th>\n      <th>author</th>\n    </tr>\n  </thead>\n  <tbody>\n    <tr>\n      <th>0</th>\n      <td>0</td>\n      <td>Oct 7</td>\n      <td>784609194234306560</td>\n      <td>/realDonaldTrump/status/784609194234306560</td>\n      <td>False</td>\n      <td>Here is my statement.pic.twitter.com/WAZiGoQqMQ</td>\n      <td>DonaldTrump</td>\n    </tr>\n    <tr>\n      <th>1</th>\n      <td>1</td>\n      <td>Oct 10</td>\n      <td>785608815962099712</td>\n      <td>/realDonaldTrump/status/785608815962099712</td>\n      <td>False</td>\n      <td>Is this really America? Terrible!pic.twitter.com/WiwC61PIFu</td>\n      <td>DonaldTrump</td>\n    </tr>\n    <tr>\n      <th>2</th>\n      <td>2</td>\n      <td>Oct 8</td>\n      <td>784840992734064640</td>\n      <td>/realDonaldTrump/status/784840992734064641</td>\n      <td>False</td>\n      <td>The media and establishment want me out of the race so badly -  I WILL NEVER DROP OUT OF THE RACE, WILL NEVER LET MY SUPPORTERS DOWN! #MAGA</td>\n      <td>DonaldTrump</td>\n    </tr>\n    <tr>\n      <th>3</th>\n      <td>3</td>\n      <td>Oct 8</td>\n      <td>784767399442653184</td>\n      <td>/realDonaldTrump/status/784767399442653184</td>\n      <td>False</td>\n      <td>Certainly has been an interesting 24 hours!</td>\n      <td>DonaldTrump</td>\n    </tr>\n    <tr>\n      <th>4</th>\n      <td>4</td>\n      <td>Oct 10</td>\n      <td>785561269571026944</td>\n      <td>/realDonaldTrump/status/785561269571026946</td>\n      <td>False</td>\n      <td>Debate polls look great - thank you!\\r\\n#MAGA #AmericaFirstpic.twitter.com/4peQ3Sswdz</td>\n      <td>DonaldTrump</td>\n    </tr>\n    <tr>\n      <th>5</th>\n      <td>5</td>\n      <td>4h4 hours ago</td>\n      <td>786950598826532864</td>\n      <td>/realDonaldTrump/status/786950598826532864</td>\n      <td>False</td>\n      <td>WHAT THEY ARE SAYING ABOUT THE CLINTON CAMPAIGN’S ANTI-CATHOLIC BIGOTRY: \\r\\nhttp://bit.ly/2dcbtvkCrooked</td>\n      <td>DonaldTrump</td>\n    </tr>\n    <tr>\n      <th>6</th>\n      <td>6</td>\n      <td>Oct 13</td>\n      <td>786589172911964160</td>\n      <td>/realDonaldTrump/status/786589172911964161</td>\n      <td>False</td>\n      <td>Thank you! #MAGA #AmericaFirstpic.twitter.com/fG313wjlKm</td>\n      <td>DonaldTrump</td>\n    </tr>\n    <tr>\n      <th>7</th>\n      <td>7</td>\n      <td>Oct 12</td>\n      <td>786340623804751872</td>\n      <td>/realDonaldTrump/status/786340623804751872</td>\n      <td>False</td>\n      <td>I will be in Cincinnati, Ohio tomorrow night at 7:30pm- join me! #OhioVotesEarly #VoteTrumpPence16 \\r\\nTickets: https://www.donaldjtrump.com/schedule/register/cincinnati-oh2/ …pic.twitter.com/XUFuGc4Fg5</td>\n      <td>DonaldTrump</td>\n    </tr>\n    <tr>\n      <th>8</th>\n      <td>8</td>\n      <td>Oct 12</td>\n      <td>786201435486781440</td>\n      <td>/realDonaldTrump/status/786201435486781440</td>\n      <td>False</td>\n      <td>Very little pick-up by the dishonest media of incredible information provided by WikiLeaks. So dishonest! Rigged system!</td>\n      <td>DonaldTrump</td>\n    </tr>\n    <tr>\n      <th>9</th>\n      <td>9</td>\n      <td>Oct 11</td>\n      <td>786054986534969344</td>\n      <td>/realDonaldTrump/status/786054986534969344</td>\n      <td>False</td>\n      <td>Thank you Florida- a MOVEMENT that has never been seen before and will never be seen again. Lets get out &amp; #VoteTrumpPence16 on 11/8! #MAGApic.twitter.com/e90a2AL7vO</td>\n      <td>DonaldTrump</td>\n    </tr>\n  </tbody>\n</table>\n</div>"
     },
     "metadata": {},
     "execution_count": 9
    }
   ],
   "source": [
    "df.head(10)"
   ]
  },
  {
   "cell_type": "code",
   "execution_count": 10,
   "metadata": {},
   "outputs": [],
   "source": [
    "def _removeNonAscii(s):\n",
    "    return \"\".join(i for i in s if  ord(i)<128)\n",
    "\n",
    "def make_lower_case(text):\n",
    "    return text.lower()\n",
    "\n",
    "def remove_stop_words(text):\n",
    "    text = text.split()\n",
    "    stops = set(stopwords.words(\"english\"))\n",
    "    text = [w for w in text if not w in stops]\n",
    "    text = \" \".join(text)\n",
    "    return text\n",
    "\n",
    "def remove_html(text):\n",
    "    html_pattern = re.compile('<.*?>')\n",
    "    return html_pattern.sub(r'', text)\n",
    "\n",
    "def remove_punctuation(text):\n",
    "    tokenizer = RegexpTokenizer(r'\\w+')\n",
    "    text = tokenizer.tokenize(text)\n",
    "    text = \" \".join(text)\n",
    "    return text"
   ]
  },
  {
   "cell_type": "code",
   "execution_count": 11,
   "metadata": {},
   "outputs": [],
   "source": [
    "df['text'] = df['text'].astype(str)"
   ]
  },
  {
   "cell_type": "code",
   "execution_count": 12,
   "metadata": {},
   "outputs": [],
   "source": [
    "df['cleaned'] = df['text'].apply(_removeNonAscii)\n",
    "\n",
    "df['cleaned'] = df.cleaned.apply(func = make_lower_case)\n",
    "df['cleaned'] = df.cleaned.apply(func = remove_stop_words)\n",
    "df['cleaned'] = df.cleaned.apply(func=remove_punctuation)\n",
    "df['cleaned'] = df.cleaned.apply(func=remove_html)\n"
   ]
  },
  {
   "cell_type": "code",
   "execution_count": 13,
   "metadata": {},
   "outputs": [],
   "source": [
    "EMBEDDING_FILE = '../models/GoogleNews-vectors-negative300.bin.gz'\n",
    "google_word2vec = KeyedVectors.load_word2vec_format(EMBEDDING_FILE, binary=True)\n"
   ]
  },
  {
   "cell_type": "code",
   "execution_count": 14,
   "metadata": {},
   "outputs": [],
   "source": [
    "#ssplit en plusieurs mots la description cleaned\n",
    "import time\n",
    "corpus = []\n",
    "for words in df['cleaned']:\n",
    "    corpus.append(words.split())"
   ]
  },
  {
   "cell_type": "code",
   "execution_count": 15,
   "metadata": {},
   "outputs": [
    {
     "output_type": "stream",
     "name": "stdout",
     "text": [
      "Wall time: 0 ns\n"
     ]
    },
    {
     "output_type": "execute_result",
     "data": {
      "text/plain": [
       "(0, 0)"
      ]
     },
     "metadata": {},
     "execution_count": 15
    }
   ],
   "source": [
    "# Entrainement surr google model\n",
    "%time\n",
    "google_model = Word2Vec(size = 300, window=5, min_count = 2, workers = -1)\n",
    "google_model.build_vocab(corpus)\n",
    "\n",
    "\n",
    "\n",
    "google_model.intersect_word2vec_format(EMBEDDING_FILE, lockf=1.0, binary=True)\n",
    "\n",
    "google_model.train(corpus, total_examples=google_model.corpus_count, epochs = 5)"
   ]
  },
  {
   "cell_type": "code",
   "execution_count": 16,
   "metadata": {},
   "outputs": [
    {
     "output_type": "execute_result",
     "data": {
      "text/plain": [
       "[('dave', 0.7480320334434509),\n",
       " ('jeff', 0.6910731196403503),\n",
       " ('jason', 0.6878510117530823),\n",
       " ('robert', 0.6830392479896545),\n",
       " ('george', 0.6792417764663696),\n",
       " ('kevin', 0.676276683807373),\n",
       " ('todd', 0.6758198738098145),\n",
       " ('ryan', 0.6735630035400391),\n",
       " ('greg', 0.670603334903717),\n",
       " ('michael', 0.6679339408874512)]"
      ]
     },
     "metadata": {},
     "execution_count": 16
    }
   ],
   "source": [
    "google_model.wv.most_similar(positive=[\"steve\"]) #model google des mots reconus on peut tester des trucs ex: ok, hello, etc"
   ]
  },
  {
   "cell_type": "code",
   "execution_count": 17,
   "metadata": {},
   "outputs": [],
   "source": [
    "# genere average word2dec pour chaque champ\n",
    "def vectors(x):\n",
    "    \n",
    "    \n",
    "    global word_embeddings\n",
    "    word_embeddings = []\n",
    "\n",
    "    \n",
    "    for line in df['cleaned']:\n",
    "        avgword2vec = None\n",
    "        count = 0\n",
    "        for word in line.split():\n",
    "            if word in google_model.wv.vocab:\n",
    "                count += 1\n",
    "                if avgword2vec is None:\n",
    "                    avgword2vec = google_model[word]\n",
    "                else:\n",
    "                    avgword2vec = avgword2vec + google_model[word]\n",
    "                \n",
    "        if avgword2vec is not None:\n",
    "            avgword2vec = avgword2vec / count\n",
    "        \n",
    "            word_embeddings.append(avgword2vec)\n"
   ]
  },
  {
   "cell_type": "code",
   "execution_count": 31,
   "metadata": {},
   "outputs": [],
   "source": [
    "\n",
    "\n",
    "def recommendations(text):\n",
    "    \n",
    "  \n",
    "\n",
    "    vectors(df)\n",
    "    \n",
    " \n",
    "\n",
    "    cosine_similarities = cosine_similarity(word_embeddings, word_embeddings)\n",
    "\n",
    "  \n",
    "    books = df[['text', 'id']]\n",
    " \n",
    "    indices = pd.Series(df.index, index = df['text']).drop_duplicates()\n",
    "\n",
    "    idx=df[df['text']=='text']\n",
    "    print(idx)\n",
    "\n",
    "    #idx = indices[text]\n",
    "    sim_scores = list(enumerate(cosine_similarities[idx]))\n",
    "    sim_scores = sorted(sim_scores, key = lambda x: x[1], reverse = True)\n",
    "    sim_scores = sim_scores[1:20]\n",
    "    book_indices = [i[0] for i in sim_scores]\n",
    "    recommend = books.iloc[book_indices]\n",
    "\n",
    "    print(sim_scores)\n",
    "    return(recommend)"
   ]
  },
  {
   "cell_type": "code",
   "execution_count": null,
   "metadata": {},
   "outputs": [],
   "source": [
    "1854"
   ]
  },
  {
   "cell_type": "code",
   "execution_count": 32,
   "metadata": {},
   "outputs": [
    {
     "output_type": "stream",
     "name": "stdout",
     "text": [
      "1854\n[(7135, 0.7707242), (9601, 0.7637521), (9234, 0.7598102), (7543, 0.7593678), (14302, 0.75635105), (16362, 0.75635105), (2441, 0.7557487), (10260, 0.75278187), (9489, 0.7492509), (12573, 0.746034), (5459, 0.7410302), (8931, 0.73876345), (13384, 0.73568606), (15444, 0.73568606), (2474, 0.73501897), (5988, 0.73496044), (6860, 0.7338564), (9272, 0.732393), (4152, 0.73117673)]\n"
     ]
    },
    {
     "output_type": "execute_result",
     "data": {
      "text/plain": [
       "                                                                                                                                                   text  \\\n",
       "7135   \"@Natasha_tut13: @realDonaldTrump  I like to read your tweets and I am delighted with you, intelligent, decent, strong man!\"  Thanks.              \n",
       "9601   \"@thineline4: @realDonaldTrump For a long time I thought you were so nasty. Now after reading your tweets I changed my mind.\" Great!               \n",
       "9234   New York Fashion Week is really bad, and used to be so glamorous and exciting! No stars, no fun-just boring. They need serious help. #NYFW         \n",
       "7543   “No matter how good you get you can always get better and that's the exciting part.” - @TigerWoods                                                 \n",
       "14302  My twitter account is now reaching more people than the New York Times--not bad. And we're only going to get better!                               \n",
       "16362  My twitter account is now reaching more people than the New York Times--not bad. And we're only going to get better!                               \n",
       "2441   #DemDebate was really boring but had a lot of fun live tweeting and picked up by far the most followers.                                           \n",
       "10260  \"@CariRead08: @realDonaldTrump I look forward to your wise words every day. Nice to learn from one of the best.\" You are very smart!               \n",
       "9489   \"@jamieaydt: One day I hope to be successful & a bit controversial like @realDonaldTrump ...keeping things interesting & classy\" Go for it!        \n",
       "12573  “I always follow my own instincts, but I am not going to kid you: it’s also nice to get good reviews.” - The Art of the Deal                       \n",
       "5459   \"@dungyots: .@realDonaldTrump with a solid cameo in #HomeAlone2 pic.twitter.com/UV1XwDd7wF\" Thanks, it was great fun-who knew it would be so big   \n",
       "8931   \"@phickeyma:  When I come home from work my Twitter page is filled with Donald Trump tweets...Love reading them...So Bold & Truthful.\"             \n",
       "13384  Looking forward to live tweeting during the rest of the debates. Will be a lot of fun.                                                             \n",
       "15444  Looking forward to live tweeting during the rest of the debates. Will be a lot of fun.                                                             \n",
       "2474   We will all have fun and hopefully learn something tonight. I will shoot straight and call it as I see it, both the good and the bad. Enjoy!       \n",
       "5988   \"@Fraz_Scotcher: @TrumpScotland @realDonaldTrump amazing day at Trump Links, course keeps getting better & better! pic.twitter.com/kmbx1KhiMG\"     \n",
       "6860   \"@token_one  I just finished reading your book \"Think Like A Champion\". Great stuff. Positive thoughts, positive actions.\" Thank you.              \n",
       "9272   \"@morningafterbil: @realDonaldTrump I can't imagine you being bad at anything. You are the real most interesting man in the world.\" Wow,nice       \n",
       "4152   .@DanaPerino wrote a wonderful book, “And the Good News is..\"  Dana has a fabulous perspective on life & politics—go get it!                       \n",
       "\n",
       "                       id  \n",
       "7135   480517974944514048  \n",
       "9601   368563292823752704  \n",
       "9234   379050677370355712  \n",
       "7543   464489915750055936  \n",
       "14302  187573782687391744  \n",
       "16362  187573782687391744  \n",
       "2441   654310045304389632  \n",
       "10260  349713546445205504  \n",
       "9489   372940049815719936  \n",
       "12573  286527813597679616  \n",
       "5459   551129657828188160  \n",
       "8931   391331973035462656  \n",
       "13384  255738703052435456  \n",
       "15444  255738703052435456  \n",
       "2474   654089397193863168  \n",
       "5988   531368880116355072  \n",
       "6860   494152454117027840  \n",
       "9272   377652479615586304  \n",
       "4152   590519301486075904  "
      ],
      "text/html": "<div>\n<style scoped>\n    .dataframe tbody tr th:only-of-type {\n        vertical-align: middle;\n    }\n\n    .dataframe tbody tr th {\n        vertical-align: top;\n    }\n\n    .dataframe thead th {\n        text-align: right;\n    }\n</style>\n<table border=\"1\" class=\"dataframe\">\n  <thead>\n    <tr style=\"text-align: right;\">\n      <th></th>\n      <th>text</th>\n      <th>id</th>\n    </tr>\n  </thead>\n  <tbody>\n    <tr>\n      <th>7135</th>\n      <td>\"@Natasha_tut13: @realDonaldTrump  I like to read your tweets and I am delighted with you, intelligent, decent, strong man!\"  Thanks.</td>\n      <td>480517974944514048</td>\n    </tr>\n    <tr>\n      <th>9601</th>\n      <td>\"@thineline4: @realDonaldTrump For a long time I thought you were so nasty. Now after reading your tweets I changed my mind.\" Great!</td>\n      <td>368563292823752704</td>\n    </tr>\n    <tr>\n      <th>9234</th>\n      <td>New York Fashion Week is really bad, and used to be so glamorous and exciting! No stars, no fun-just boring. They need serious help. #NYFW</td>\n      <td>379050677370355712</td>\n    </tr>\n    <tr>\n      <th>7543</th>\n      <td>“No matter how good you get you can always get better and that's the exciting part.” - @TigerWoods</td>\n      <td>464489915750055936</td>\n    </tr>\n    <tr>\n      <th>14302</th>\n      <td>My twitter account is now reaching more people than the New York Times--not bad. And we're only going to get better!</td>\n      <td>187573782687391744</td>\n    </tr>\n    <tr>\n      <th>16362</th>\n      <td>My twitter account is now reaching more people than the New York Times--not bad. And we're only going to get better!</td>\n      <td>187573782687391744</td>\n    </tr>\n    <tr>\n      <th>2441</th>\n      <td>#DemDebate was really boring but had a lot of fun live tweeting and picked up by far the most followers.</td>\n      <td>654310045304389632</td>\n    </tr>\n    <tr>\n      <th>10260</th>\n      <td>\"@CariRead08: @realDonaldTrump I look forward to your wise words every day. Nice to learn from one of the best.\" You are very smart!</td>\n      <td>349713546445205504</td>\n    </tr>\n    <tr>\n      <th>9489</th>\n      <td>\"@jamieaydt: One day I hope to be successful &amp; a bit controversial like @realDonaldTrump ...keeping things interesting &amp; classy\" Go for it!</td>\n      <td>372940049815719936</td>\n    </tr>\n    <tr>\n      <th>12573</th>\n      <td>“I always follow my own instincts, but I am not going to kid you: it’s also nice to get good reviews.” - The Art of the Deal</td>\n      <td>286527813597679616</td>\n    </tr>\n    <tr>\n      <th>5459</th>\n      <td>\"@dungyots: .@realDonaldTrump with a solid cameo in #HomeAlone2 pic.twitter.com/UV1XwDd7wF\" Thanks, it was great fun-who knew it would be so big</td>\n      <td>551129657828188160</td>\n    </tr>\n    <tr>\n      <th>8931</th>\n      <td>\"@phickeyma:  When I come home from work my Twitter page is filled with Donald Trump tweets...Love reading them...So Bold &amp; Truthful.\"</td>\n      <td>391331973035462656</td>\n    </tr>\n    <tr>\n      <th>13384</th>\n      <td>Looking forward to live tweeting during the rest of the debates. Will be a lot of fun.</td>\n      <td>255738703052435456</td>\n    </tr>\n    <tr>\n      <th>15444</th>\n      <td>Looking forward to live tweeting during the rest of the debates. Will be a lot of fun.</td>\n      <td>255738703052435456</td>\n    </tr>\n    <tr>\n      <th>2474</th>\n      <td>We will all have fun and hopefully learn something tonight. I will shoot straight and call it as I see it, both the good and the bad. Enjoy!</td>\n      <td>654089397193863168</td>\n    </tr>\n    <tr>\n      <th>5988</th>\n      <td>\"@Fraz_Scotcher: @TrumpScotland @realDonaldTrump amazing day at Trump Links, course keeps getting better &amp; better! pic.twitter.com/kmbx1KhiMG\"</td>\n      <td>531368880116355072</td>\n    </tr>\n    <tr>\n      <th>6860</th>\n      <td>\"@token_one  I just finished reading your book \"Think Like A Champion\". Great stuff. Positive thoughts, positive actions.\" Thank you.</td>\n      <td>494152454117027840</td>\n    </tr>\n    <tr>\n      <th>9272</th>\n      <td>\"@morningafterbil: @realDonaldTrump I can't imagine you being bad at anything. You are the real most interesting man in the world.\" Wow,nice</td>\n      <td>377652479615586304</td>\n    </tr>\n    <tr>\n      <th>4152</th>\n      <td>.@DanaPerino wrote a wonderful book, “And the Good News is..\"  Dana has a fabulous perspective on life &amp; politics—go get it!</td>\n      <td>590519301486075904</td>\n    </tr>\n  </tbody>\n</table>\n</div>"
     },
     "metadata": {},
     "execution_count": 32
    }
   ],
   "source": [
    "recommendations(\"I will be re-tweeting some of your better, most imaginative and hopefully insightful tweets. Make them good (great)! Important stuff.\")"
   ]
  },
  {
   "cell_type": "code",
   "execution_count": 26,
   "metadata": {},
   "outputs": [],
   "source": [
    "with open('../models/google_model.pickle', 'wb') as output:\n",
    "    pickle.dump(google_model, output)"
   ]
  },
  {
   "cell_type": "code",
   "execution_count": 25,
   "metadata": {},
   "outputs": [],
   "source": [
    "\n",
    "with open('../models/google_model.pickle', 'rb') as data:\n",
    "    google_model = pickle.load(data)"
   ]
  },
  {
   "cell_type": "code",
   "execution_count": null,
   "metadata": {},
   "outputs": [],
   "source": []
  }
 ],
 "metadata": {
  "kernelspec": {
   "display_name": "Python 3",
   "language": "python",
   "name": "python3"
  },
  "language_info": {
   "codemirror_mode": {
    "name": "ipython",
    "version": 3
   },
   "file_extension": ".py",
   "mimetype": "text/x-python",
   "name": "python",
   "nbconvert_exporter": "python",
   "pygments_lexer": "ipython3",
   "version": "3.8.3-final"
  }
 },
 "nbformat": 4,
 "nbformat_minor": 4
}