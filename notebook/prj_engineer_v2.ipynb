{
 "cells": [
  {
   "cell_type": "code",
   "execution_count": 1,
   "metadata": {},
   "outputs": [
    {
     "output_type": "stream",
     "name": "stderr",
     "text": [
      "[nltk_data] Downloading package stopwords to\n[nltk_data]     C:\\Users\\nana-\\anaconda3\\nltk_data...\n[nltk_data]   Package stopwords is already up-to-date!\n"
     ]
    }
   ],
   "source": [
    "\n",
    "import pandas as pd\n",
    "import numpy as np\n",
    "import nltk\n",
    "nltk.download('stopwords')\n",
    "from nltk.corpus import stopwords\n",
    "from sklearn.metrics.pairwise import linear_kernel\n",
    "from sklearn.feature_extraction.text import CountVectorizer\n",
    "from sklearn.feature_extraction.text import TfidfVectorizer\n",
    "from nltk.tokenize import RegexpTokenizer\n",
    "import re\n",
    "import string\n",
    "import random\n",
    "from PIL import Image\n",
    "import requests\n",
    "from io import BytesIO\n",
    "import matplotlib.pyplot as plt\n",
    "%matplotlib inline\n",
    "from sklearn.metrics.pairwise import cosine_similarity\n",
    "from gensim.models import Word2Vec\n",
    "from gensim.models.phrases import Phrases, Phraser\n",
    "from matplotlib import pyplot\n",
    "from gensim.models import KeyedVectors"
   ]
  },
  {
   "cell_type": "code",
   "execution_count": 2,
   "metadata": {},
   "outputs": [],
   "source": [
    "\n",
    "pd.set_option('display.max_colwidth', -1)\n",
    "df = pd.read_csv(\"../data/tweets_1.csv\")\n"
   ]
  },
  {
   "cell_type": "code",
   "execution_count": 3,
   "metadata": {},
   "outputs": [
    {
     "output_type": "stream",
     "name": "stdout",
     "text": [
      "2    The media and establishment want me out of the race so badly -  I WILL NEVER DROP OUT OF THE RACE, WILL NEVER LET MY SUPPORTERS DOWN! #MAGA\nName: text, dtype: object\n"
     ]
    }
   ],
   "source": [
    "x= df['text'][df['Unnamed: 0']==2]\n",
    "print(x)"
   ]
  },
  {
   "cell_type": "code",
   "execution_count": 4,
   "metadata": {},
   "outputs": [
    {
     "output_type": "execute_result",
     "data": {
      "text/plain": [
       "   Unnamed: 0           date                  id  \\\n",
       "0  0           Oct 7          784609194234306560   \n",
       "1  1           Oct 10         785608815962099712   \n",
       "2  2           Oct 8          784840992734064640   \n",
       "3  3           Oct 8          784767399442653184   \n",
       "4  4           Oct 10         785561269571026944   \n",
       "5  5           4h4 hours ago  786950598826532864   \n",
       "6  6           Oct 13         786589172911964160   \n",
       "7  7           Oct 12         786340623804751872   \n",
       "8  8           Oct 12         786201435486781440   \n",
       "9  9           Oct 11         786054986534969344   \n",
       "\n",
       "                                         link  retweet  \\\n",
       "0  /realDonaldTrump/status/784609194234306560  False     \n",
       "1  /realDonaldTrump/status/785608815962099712  False     \n",
       "2  /realDonaldTrump/status/784840992734064641  False     \n",
       "3  /realDonaldTrump/status/784767399442653184  False     \n",
       "4  /realDonaldTrump/status/785561269571026946  False     \n",
       "5  /realDonaldTrump/status/786950598826532864  False     \n",
       "6  /realDonaldTrump/status/786589172911964161  False     \n",
       "7  /realDonaldTrump/status/786340623804751872  False     \n",
       "8  /realDonaldTrump/status/786201435486781440  False     \n",
       "9  /realDonaldTrump/status/786054986534969344  False     \n",
       "\n",
       "                                                                                                                                                                                                         text  \\\n",
       "0  Here is my statement.pic.twitter.com/WAZiGoQqMQ                                                                                                                                                              \n",
       "1  Is this really America? Terrible!pic.twitter.com/WiwC61PIFu                                                                                                                                                  \n",
       "2  The media and establishment want me out of the race so badly -  I WILL NEVER DROP OUT OF THE RACE, WILL NEVER LET MY SUPPORTERS DOWN! #MAGA                                                                  \n",
       "3  Certainly has been an interesting 24 hours!                                                                                                                                                                  \n",
       "4  Debate polls look great - thank you!\\r\\n#MAGA #AmericaFirstpic.twitter.com/4peQ3Sswdz                                                                                                                        \n",
       "5  WHAT THEY ARE SAYING ABOUT THE CLINTON CAMPAIGN’S ANTI-CATHOLIC BIGOTRY: \\r\\nhttp://bit.ly/2dcbtvkCrooked                                                                                                    \n",
       "6  Thank you! #MAGA #AmericaFirstpic.twitter.com/fG313wjlKm                                                                                                                                                     \n",
       "7  I will be in Cincinnati, Ohio tomorrow night at 7:30pm- join me! #OhioVotesEarly #VoteTrumpPence16 \\r\\nTickets: https://www.donaldjtrump.com/schedule/register/cincinnati-oh2/ …pic.twitter.com/XUFuGc4Fg5   \n",
       "8  Very little pick-up by the dishonest media of incredible information provided by WikiLeaks. So dishonest! Rigged system!                                                                                     \n",
       "9  Thank you Florida- a MOVEMENT that has never been seen before and will never be seen again. Lets get out & #VoteTrumpPence16 on 11/8! #MAGApic.twitter.com/e90a2AL7vO                                        \n",
       "\n",
       "        author  \n",
       "0  DonaldTrump  \n",
       "1  DonaldTrump  \n",
       "2  DonaldTrump  \n",
       "3  DonaldTrump  \n",
       "4  DonaldTrump  \n",
       "5  DonaldTrump  \n",
       "6  DonaldTrump  \n",
       "7  DonaldTrump  \n",
       "8  DonaldTrump  \n",
       "9  DonaldTrump  "
      ],
      "text/html": "<div>\n<style scoped>\n    .dataframe tbody tr th:only-of-type {\n        vertical-align: middle;\n    }\n\n    .dataframe tbody tr th {\n        vertical-align: top;\n    }\n\n    .dataframe thead th {\n        text-align: right;\n    }\n</style>\n<table border=\"1\" class=\"dataframe\">\n  <thead>\n    <tr style=\"text-align: right;\">\n      <th></th>\n      <th>Unnamed: 0</th>\n      <th>date</th>\n      <th>id</th>\n      <th>link</th>\n      <th>retweet</th>\n      <th>text</th>\n      <th>author</th>\n    </tr>\n  </thead>\n  <tbody>\n    <tr>\n      <th>0</th>\n      <td>0</td>\n      <td>Oct 7</td>\n      <td>784609194234306560</td>\n      <td>/realDonaldTrump/status/784609194234306560</td>\n      <td>False</td>\n      <td>Here is my statement.pic.twitter.com/WAZiGoQqMQ</td>\n      <td>DonaldTrump</td>\n    </tr>\n    <tr>\n      <th>1</th>\n      <td>1</td>\n      <td>Oct 10</td>\n      <td>785608815962099712</td>\n      <td>/realDonaldTrump/status/785608815962099712</td>\n      <td>False</td>\n      <td>Is this really America? Terrible!pic.twitter.com/WiwC61PIFu</td>\n      <td>DonaldTrump</td>\n    </tr>\n    <tr>\n      <th>2</th>\n      <td>2</td>\n      <td>Oct 8</td>\n      <td>784840992734064640</td>\n      <td>/realDonaldTrump/status/784840992734064641</td>\n      <td>False</td>\n      <td>The media and establishment want me out of the race so badly -  I WILL NEVER DROP OUT OF THE RACE, WILL NEVER LET MY SUPPORTERS DOWN! #MAGA</td>\n      <td>DonaldTrump</td>\n    </tr>\n    <tr>\n      <th>3</th>\n      <td>3</td>\n      <td>Oct 8</td>\n      <td>784767399442653184</td>\n      <td>/realDonaldTrump/status/784767399442653184</td>\n      <td>False</td>\n      <td>Certainly has been an interesting 24 hours!</td>\n      <td>DonaldTrump</td>\n    </tr>\n    <tr>\n      <th>4</th>\n      <td>4</td>\n      <td>Oct 10</td>\n      <td>785561269571026944</td>\n      <td>/realDonaldTrump/status/785561269571026946</td>\n      <td>False</td>\n      <td>Debate polls look great - thank you!\\r\\n#MAGA #AmericaFirstpic.twitter.com/4peQ3Sswdz</td>\n      <td>DonaldTrump</td>\n    </tr>\n    <tr>\n      <th>5</th>\n      <td>5</td>\n      <td>4h4 hours ago</td>\n      <td>786950598826532864</td>\n      <td>/realDonaldTrump/status/786950598826532864</td>\n      <td>False</td>\n      <td>WHAT THEY ARE SAYING ABOUT THE CLINTON CAMPAIGN’S ANTI-CATHOLIC BIGOTRY: \\r\\nhttp://bit.ly/2dcbtvkCrooked</td>\n      <td>DonaldTrump</td>\n    </tr>\n    <tr>\n      <th>6</th>\n      <td>6</td>\n      <td>Oct 13</td>\n      <td>786589172911964160</td>\n      <td>/realDonaldTrump/status/786589172911964161</td>\n      <td>False</td>\n      <td>Thank you! #MAGA #AmericaFirstpic.twitter.com/fG313wjlKm</td>\n      <td>DonaldTrump</td>\n    </tr>\n    <tr>\n      <th>7</th>\n      <td>7</td>\n      <td>Oct 12</td>\n      <td>786340623804751872</td>\n      <td>/realDonaldTrump/status/786340623804751872</td>\n      <td>False</td>\n      <td>I will be in Cincinnati, Ohio tomorrow night at 7:30pm- join me! #OhioVotesEarly #VoteTrumpPence16 \\r\\nTickets: https://www.donaldjtrump.com/schedule/register/cincinnati-oh2/ …pic.twitter.com/XUFuGc4Fg5</td>\n      <td>DonaldTrump</td>\n    </tr>\n    <tr>\n      <th>8</th>\n      <td>8</td>\n      <td>Oct 12</td>\n      <td>786201435486781440</td>\n      <td>/realDonaldTrump/status/786201435486781440</td>\n      <td>False</td>\n      <td>Very little pick-up by the dishonest media of incredible information provided by WikiLeaks. So dishonest! Rigged system!</td>\n      <td>DonaldTrump</td>\n    </tr>\n    <tr>\n      <th>9</th>\n      <td>9</td>\n      <td>Oct 11</td>\n      <td>786054986534969344</td>\n      <td>/realDonaldTrump/status/786054986534969344</td>\n      <td>False</td>\n      <td>Thank you Florida- a MOVEMENT that has never been seen before and will never be seen again. Lets get out &amp; #VoteTrumpPence16 on 11/8! #MAGApic.twitter.com/e90a2AL7vO</td>\n      <td>DonaldTrump</td>\n    </tr>\n  </tbody>\n</table>\n</div>"
     },
     "metadata": {},
     "execution_count": 4
    }
   ],
   "source": [
    "df.head(10)"
   ]
  },
  {
   "cell_type": "code",
   "execution_count": 5,
   "metadata": {},
   "outputs": [],
   "source": [
    "\n",
    "def _removeNonAscii(s):\n",
    "    return \"\".join(i for i in s if  ord(i)<128)\n",
    "\n",
    "def make_lower_case(text):\n",
    "    return text.lower()\n",
    "\n",
    "def remove_stop_words(text):\n",
    "    text = text.split()\n",
    "    stops = set(stopwords.words(\"english\"))\n",
    "    text = [w for w in text if not w in stops]\n",
    "    text = \" \".join(text)\n",
    "    return text\n",
    "\n",
    "def remove_html(text):\n",
    "    html_pattern = re.compile('<.*?>')\n",
    "    return html_pattern.sub(r'', text)\n",
    "\n",
    "def remove_punctuation(text):\n",
    "    tokenizer = RegexpTokenizer(r'\\w+')\n",
    "    text = tokenizer.tokenize(text)\n",
    "    text = \" \".join(text)\n",
    "    return text"
   ]
  },
  {
   "cell_type": "code",
   "execution_count": 6,
   "metadata": {},
   "outputs": [],
   "source": [
    "df['text'] = df['text'].astype(str)"
   ]
  },
  {
   "cell_type": "code",
   "execution_count": 7,
   "metadata": {},
   "outputs": [],
   "source": [
    "df['text'] = df['text'].astype(str)\n",
    "df['cleaned'] = df['text'].apply(_removeNonAscii)\n",
    "\n",
    "df['cleaned'] = df.cleaned.apply(func = make_lower_case)\n",
    "df['cleaned'] = df.cleaned.apply(func = remove_stop_words)\n",
    "df['cleaned'] = df.cleaned.apply(func=remove_punctuation)\n",
    "df['cleaned'] = df.cleaned.apply(func=remove_html)\n"
   ]
  },
  {
   "cell_type": "code",
   "execution_count": 8,
   "metadata": {},
   "outputs": [],
   "source": [
    "EMBEDDING_FILE = \"../models/GoogleNews-vectors-negative300.bin.gz\"\n",
    "google_word2vec = KeyedVectors.load_word2vec_format(EMBEDDING_FILE, binary=True)\n"
   ]
  },
  {
   "cell_type": "code",
   "execution_count": 9,
   "metadata": {},
   "outputs": [],
   "source": [
    "#ssplit en plusieurs mots la description cleaned\n",
    "\n",
    "import time\n",
    "corpus = []\n",
    "for words in df['cleaned']:\n",
    "    corpus.append(words.split())"
   ]
  },
  {
   "cell_type": "code",
   "execution_count": 10,
   "metadata": {},
   "outputs": [
    {
     "output_type": "stream",
     "name": "stdout",
     "text": [
      "Wall time: 0 ns\n"
     ]
    },
    {
     "output_type": "execute_result",
     "data": {
      "text/plain": [
       "(0, 0)"
      ]
     },
     "metadata": {},
     "execution_count": 10
    }
   ],
   "source": [
    "# Entrainement surr google model\n",
    "%time\n",
    "google_model = Word2Vec(size = 300, window=5, min_count = 2, workers = -1)\n",
    "google_model.build_vocab(corpus)\n",
    "\n",
    "\n",
    "\n",
    "google_model.intersect_word2vec_format(EMBEDDING_FILE, lockf=1.0, binary=True)\n",
    "\n",
    "google_model.train(corpus, total_examples=google_model.corpus_count, epochs = 5)"
   ]
  },
  {
   "cell_type": "markdown",
   "metadata": {},
   "source": [
    "# LIMIT MODEL TRAINING\n"
   ]
  },
  {
   "cell_type": "code",
   "execution_count": 11,
   "metadata": {},
   "outputs": [
    {
     "output_type": "execute_result",
     "data": {
      "text/plain": [
       "[('dave', 0.7480320334434509),\n",
       " ('jeff', 0.6910731196403503),\n",
       " ('jason', 0.6878510117530823),\n",
       " ('robert', 0.6830391883850098),\n",
       " ('george', 0.6792417764663696),\n",
       " ('kevin', 0.676276683807373),\n",
       " ('todd', 0.6758198738098145),\n",
       " ('ryan', 0.6735630035400391),\n",
       " ('greg', 0.6706033945083618),\n",
       " ('michael', 0.6679339408874512)]"
      ]
     },
     "metadata": {},
     "execution_count": 11
    }
   ],
   "source": [
    "google_model.wv.most_similar(positive=[\"steve\"]) #model google des mots reconus on peut tester des trucs ex: ok, hello, etc"
   ]
  },
  {
   "cell_type": "code",
   "execution_count": 12,
   "metadata": {},
   "outputs": [],
   "source": [
    "# genere average word2dec pour chaque champ\n",
    "def vectors(x):\n",
    "    \n",
    "    \n",
    "    global word_embeddings\n",
    "    word_embeddings = []\n",
    "\n",
    "    \n",
    "    for line in df['cleaned']:\n",
    "        avgword2vec = None\n",
    "        count = 0\n",
    "        for word in line.split():\n",
    "            if word in google_model.wv.vocab:\n",
    "                count += 1\n",
    "                if avgword2vec is None:\n",
    "                    avgword2vec = google_model[word]\n",
    "                else:\n",
    "                    avgword2vec = avgword2vec + google_model[word]\n",
    "                \n",
    "        if avgword2vec is not None:\n",
    "            avgword2vec = avgword2vec / count\n",
    "        \n",
    "            word_embeddings.append(avgword2vec)\n",
    "    \n",
    "    return len(word_embeddings)\n"
   ]
  },
  {
   "cell_type": "code",
   "execution_count": 13,
   "metadata": {},
   "outputs": [],
   "source": [
    "def essentiel(df,text):\n",
    "    df = df.append({'Unnamed: 0': 17216,'date':\"dateeclate\",'id':1,'link':\"/realDonaldTrump/status/1784884848\", 'retweet':\"False\", 'text':text,'author':\"DonalTrump\"}, ignore_index=True)\n",
    "    df['text'] = df['text'].astype(str)\n",
    "    df['cleaned'] = df['text'].apply(_removeNonAscii)\n",
    "    df['cleaned'] = df.cleaned.apply(func= make_lower_case)\n",
    "    df['cleaned'] = df.cleaned.apply(func=remove_stop_words)\n",
    "    df['cleaned'] = df.cleaned.apply(func=remove_punctuation)\n",
    "    df['cleaned'] = df.cleaned.apply(func=remove_html)\n",
    "    return (df)\n",
    "    "
   ]
  },
  {
   "cell_type": "code",
   "execution_count": 18,
   "metadata": {},
   "outputs": [
    {
     "output_type": "stream",
     "name": "stdout",
     "text": [
      "       Unnamed: 0        date                  id  \\\n0      0           Oct 7       784609194234306560   \n1      1           Oct 10      785608815962099712   \n2      2           Oct 8       784840992734064640   \n3      3           Oct 8       784767399442653184   \n4      4           Oct 10      785561269571026944   \n...   ..              ...                     ...   \n17212  17212       8 May 2009  1741160716           \n17213  17213       8 May 2009  1737479987           \n17214  17214       4 May 2009  1701461182           \n17215  17215       4 May 2009  1698308935           \n17216  17216       dateeclate  1                    \n\n                                             link retweet  \\\n0      /realDonaldTrump/status/784609194234306560  False    \n1      /realDonaldTrump/status/785608815962099712  False    \n2      /realDonaldTrump/status/784840992734064641  False    \n3      /realDonaldTrump/status/784767399442653184  False    \n4      /realDonaldTrump/status/785561269571026946  False    \n...                                           ...    ...    \n17212  /realDonaldTrump/status/1741160716          False    \n17213  /realDonaldTrump/status/1737479987          False    \n17214  /realDonaldTrump/status/1701461182          False    \n17215  /realDonaldTrump/status/1698308935          False    \n17216  /realDonaldTrump/status/1784884848          False    \n\n                                                                                                                                              text  \\\n0      Here is my statement.pic.twitter.com/WAZiGoQqMQ                                                                                               \n1      Is this really America? Terrible!pic.twitter.com/WiwC61PIFu                                                                                   \n2      The media and establishment want me out of the race so badly -  I WILL NEVER DROP OUT OF THE RACE, WILL NEVER LET MY SUPPORTERS DOWN! #MAGA   \n3      Certainly has been an interesting 24 hours!                                                                                                   \n4      Debate polls look great - thank you!\\r\\n#MAGA #AmericaFirstpic.twitter.com/4peQ3Sswdz                                                         \n...                                                                                      ...                                                         \n17212  New Blog Post: Celebrity Apprentice Finale and Lessons Learned Along the Way: http://tinyurl.com/qlux5e                                       \n17213  Donald Trump reads Top Ten Financial Tips on Late Show with David Letterman: http://tinyurl.com/ooafwn - Very funny!                          \n17214  Donald Trump will be appearing on The View tomorrow morning to discuss Celebrity Apprentice and his new book Think Like A Champion!           \n17215  Be sure to tune in and watch Donald Trump on Late Night with David Letterman as he presents the Top Ten List tonight!                         \n17216  Love you                                                                                                                                      \n\n            author  \\\n0      DonaldTrump   \n1      DonaldTrump   \n2      DonaldTrump   \n3      DonaldTrump   \n4      DonaldTrump   \n...            ...   \n17212  DonaldTrump   \n17213  DonaldTrump   \n17214  DonaldTrump   \n17215  DonaldTrump   \n17216  DonalTrump    \n\n                                                                                                      cleaned  \n0      statement pic twitter com wazigoqqmq                                                                    \n1      really america terrible pic twitter com wiwc61pifu                                                      \n2      media establishment want race badly never drop race never let supporters down maga                      \n3      certainly interesting 24 hours                                                                          \n4      debate polls look great thank you maga americafirstpic twitter com 4peq3sswdz                           \n...                                                                              ...                           \n17212  new blog post celebrity apprentice finale lessons learned along way http tinyurl com qlux5e             \n17213  donald trump reads top ten financial tips late show david letterman http tinyurl com ooafwn funny       \n17214  donald trump appearing view tomorrow morning discuss celebrity apprentice new book think like champion  \n17215  sure tune watch donald trump late night david letterman presents top ten list tonight                   \n17216  love                                                                                                    \n\n[17217 rows x 8 columns]\n"
     ]
    }
   ],
   "source": [
    "\n",
    "pd.set_option('display.max_colwidth', -1)\n",
    "df = pd.read_csv(\"../data/tweets_1.csv\")\n",
    "\n",
    "#df = essentiel(df,\"Love you\")\n",
    "\n",
    "\n",
    "def recommendations(text):\n",
    "    df = essentiel(df,text)\n",
    "    vectors(df)\n",
    "    cosine_similarities = cosine_similarity(word_embeddings, word_embeddings)\n",
    "    books = df[['text','id']]\n",
    "    indices = pd.Series(df.index, index = df['text'])\n",
    "    idx = indices[text]  \n",
    "    sim_scores = list(enumerate(cosine_similarities[idx]))    \n",
    "    sim_scores = sorted(sim_scores, key = lambda x: x[1], reverse = True)\n",
    "    sim_scores = sim_scores[1:21]\n",
    "    book_indices = [i[0] for i in sim_scores]\n",
    "    recommend = books.iloc[book_indices]\n",
    "\n",
    "    \n",
    "    return(recommend)"
   ]
  },
  {
   "cell_type": "code",
   "execution_count": 16,
   "metadata": {},
   "outputs": [
    {
     "output_type": "error",
     "ename": "KeyError",
     "evalue": "'I hate you'",
     "traceback": [
      "\u001b[1;31m---------------------------------------------------------------------------\u001b[0m",
      "\u001b[1;31mTypeError\u001b[0m                                 Traceback (most recent call last)",
      "\u001b[1;32m~\\anaconda3\\lib\\site-packages\\pandas\\core\\indexes\\base.py\u001b[0m in \u001b[0;36mget_value\u001b[1;34m(self, series, key)\u001b[0m\n\u001b[0;32m   4410\u001b[0m             \u001b[1;32mtry\u001b[0m\u001b[1;33m:\u001b[0m\u001b[1;33m\u001b[0m\u001b[1;33m\u001b[0m\u001b[0m\n\u001b[1;32m-> 4411\u001b[1;33m                 \u001b[1;32mreturn\u001b[0m \u001b[0mlibindex\u001b[0m\u001b[1;33m.\u001b[0m\u001b[0mget_value_at\u001b[0m\u001b[1;33m(\u001b[0m\u001b[0ms\u001b[0m\u001b[1;33m,\u001b[0m \u001b[0mkey\u001b[0m\u001b[1;33m)\u001b[0m\u001b[1;33m\u001b[0m\u001b[1;33m\u001b[0m\u001b[0m\n\u001b[0m\u001b[0;32m   4412\u001b[0m             \u001b[1;32mexcept\u001b[0m \u001b[0mIndexError\u001b[0m\u001b[1;33m:\u001b[0m\u001b[1;33m\u001b[0m\u001b[1;33m\u001b[0m\u001b[0m\n",
      "\u001b[1;32mpandas\\_libs\\index.pyx\u001b[0m in \u001b[0;36mpandas._libs.index.get_value_at\u001b[1;34m()\u001b[0m\n",
      "\u001b[1;32mpandas\\_libs\\index.pyx\u001b[0m in \u001b[0;36mpandas._libs.index.get_value_at\u001b[1;34m()\u001b[0m\n",
      "\u001b[1;32mpandas\\_libs\\util.pxd\u001b[0m in \u001b[0;36mpandas._libs.util.get_value_at\u001b[1;34m()\u001b[0m\n",
      "\u001b[1;32mpandas\\_libs\\util.pxd\u001b[0m in \u001b[0;36mpandas._libs.util.validate_indexer\u001b[1;34m()\u001b[0m\n",
      "\u001b[1;31mTypeError\u001b[0m: 'str' object cannot be interpreted as an integer",
      "\nDuring handling of the above exception, another exception occurred:\n",
      "\u001b[1;31mKeyError\u001b[0m                                  Traceback (most recent call last)",
      "\u001b[1;32m<ipython-input-16-3e9beb5e29f7>\u001b[0m in \u001b[0;36m<module>\u001b[1;34m\u001b[0m\n\u001b[1;32m----> 1\u001b[1;33m \u001b[0mrecommendations\u001b[0m\u001b[1;33m(\u001b[0m\u001b[1;34m\"I hate you\"\u001b[0m\u001b[1;33m)\u001b[0m\u001b[1;33m\u001b[0m\u001b[1;33m\u001b[0m\u001b[0m\n\u001b[0m",
      "\u001b[1;32m<ipython-input-14-bf10c7b4f0f6>\u001b[0m in \u001b[0;36mrecommendations\u001b[1;34m(text)\u001b[0m\n\u001b[0;32m     10\u001b[0m     \u001b[0mbooks\u001b[0m \u001b[1;33m=\u001b[0m \u001b[0mdf\u001b[0m\u001b[1;33m[\u001b[0m\u001b[1;33m[\u001b[0m\u001b[1;34m'text'\u001b[0m\u001b[1;33m,\u001b[0m\u001b[1;34m'id'\u001b[0m\u001b[1;33m]\u001b[0m\u001b[1;33m]\u001b[0m\u001b[1;33m\u001b[0m\u001b[1;33m\u001b[0m\u001b[0m\n\u001b[0;32m     11\u001b[0m     \u001b[0mindices\u001b[0m \u001b[1;33m=\u001b[0m \u001b[0mpd\u001b[0m\u001b[1;33m.\u001b[0m\u001b[0mSeries\u001b[0m\u001b[1;33m(\u001b[0m\u001b[0mdf\u001b[0m\u001b[1;33m.\u001b[0m\u001b[0mindex\u001b[0m\u001b[1;33m,\u001b[0m \u001b[0mindex\u001b[0m \u001b[1;33m=\u001b[0m \u001b[0mdf\u001b[0m\u001b[1;33m[\u001b[0m\u001b[1;34m'text'\u001b[0m\u001b[1;33m]\u001b[0m\u001b[1;33m)\u001b[0m\u001b[1;33m\u001b[0m\u001b[1;33m\u001b[0m\u001b[0m\n\u001b[1;32m---> 12\u001b[1;33m     \u001b[0midx\u001b[0m \u001b[1;33m=\u001b[0m \u001b[0mindices\u001b[0m\u001b[1;33m[\u001b[0m\u001b[0mtext\u001b[0m\u001b[1;33m]\u001b[0m\u001b[1;33m\u001b[0m\u001b[1;33m\u001b[0m\u001b[0m\n\u001b[0m\u001b[0;32m     13\u001b[0m     \u001b[0msim_scores\u001b[0m \u001b[1;33m=\u001b[0m \u001b[0mlist\u001b[0m\u001b[1;33m(\u001b[0m\u001b[0menumerate\u001b[0m\u001b[1;33m(\u001b[0m\u001b[0mcosine_similarities\u001b[0m\u001b[1;33m[\u001b[0m\u001b[0midx\u001b[0m\u001b[1;33m]\u001b[0m\u001b[1;33m)\u001b[0m\u001b[1;33m)\u001b[0m\u001b[1;33m\u001b[0m\u001b[1;33m\u001b[0m\u001b[0m\n\u001b[0;32m     14\u001b[0m     \u001b[0msim_scores\u001b[0m \u001b[1;33m=\u001b[0m \u001b[0msorted\u001b[0m\u001b[1;33m(\u001b[0m\u001b[0msim_scores\u001b[0m\u001b[1;33m,\u001b[0m \u001b[0mkey\u001b[0m \u001b[1;33m=\u001b[0m \u001b[1;32mlambda\u001b[0m \u001b[0mx\u001b[0m\u001b[1;33m:\u001b[0m \u001b[0mx\u001b[0m\u001b[1;33m[\u001b[0m\u001b[1;36m1\u001b[0m\u001b[1;33m]\u001b[0m\u001b[1;33m,\u001b[0m \u001b[0mreverse\u001b[0m \u001b[1;33m=\u001b[0m \u001b[1;32mTrue\u001b[0m\u001b[1;33m)\u001b[0m\u001b[1;33m\u001b[0m\u001b[1;33m\u001b[0m\u001b[0m\n",
      "\u001b[1;32m~\\anaconda3\\lib\\site-packages\\pandas\\core\\series.py\u001b[0m in \u001b[0;36m__getitem__\u001b[1;34m(self, key)\u001b[0m\n\u001b[0;32m    869\u001b[0m         \u001b[0mkey\u001b[0m \u001b[1;33m=\u001b[0m \u001b[0mcom\u001b[0m\u001b[1;33m.\u001b[0m\u001b[0mapply_if_callable\u001b[0m\u001b[1;33m(\u001b[0m\u001b[0mkey\u001b[0m\u001b[1;33m,\u001b[0m \u001b[0mself\u001b[0m\u001b[1;33m)\u001b[0m\u001b[1;33m\u001b[0m\u001b[1;33m\u001b[0m\u001b[0m\n\u001b[0;32m    870\u001b[0m         \u001b[1;32mtry\u001b[0m\u001b[1;33m:\u001b[0m\u001b[1;33m\u001b[0m\u001b[1;33m\u001b[0m\u001b[0m\n\u001b[1;32m--> 871\u001b[1;33m             \u001b[0mresult\u001b[0m \u001b[1;33m=\u001b[0m \u001b[0mself\u001b[0m\u001b[1;33m.\u001b[0m\u001b[0mindex\u001b[0m\u001b[1;33m.\u001b[0m\u001b[0mget_value\u001b[0m\u001b[1;33m(\u001b[0m\u001b[0mself\u001b[0m\u001b[1;33m,\u001b[0m \u001b[0mkey\u001b[0m\u001b[1;33m)\u001b[0m\u001b[1;33m\u001b[0m\u001b[1;33m\u001b[0m\u001b[0m\n\u001b[0m\u001b[0;32m    872\u001b[0m \u001b[1;33m\u001b[0m\u001b[0m\n\u001b[0;32m    873\u001b[0m             \u001b[1;32mif\u001b[0m \u001b[1;32mnot\u001b[0m \u001b[0mis_scalar\u001b[0m\u001b[1;33m(\u001b[0m\u001b[0mresult\u001b[0m\u001b[1;33m)\u001b[0m\u001b[1;33m:\u001b[0m\u001b[1;33m\u001b[0m\u001b[1;33m\u001b[0m\u001b[0m\n",
      "\u001b[1;32m~\\anaconda3\\lib\\site-packages\\pandas\\core\\indexes\\base.py\u001b[0m in \u001b[0;36mget_value\u001b[1;34m(self, series, key)\u001b[0m\n\u001b[0;32m   4417\u001b[0m                     \u001b[1;32mraise\u001b[0m \u001b[0mInvalidIndexError\u001b[0m\u001b[1;33m(\u001b[0m\u001b[0mkey\u001b[0m\u001b[1;33m)\u001b[0m\u001b[1;33m\u001b[0m\u001b[1;33m\u001b[0m\u001b[0m\n\u001b[0;32m   4418\u001b[0m                 \u001b[1;32melse\u001b[0m\u001b[1;33m:\u001b[0m\u001b[1;33m\u001b[0m\u001b[1;33m\u001b[0m\u001b[0m\n\u001b[1;32m-> 4419\u001b[1;33m                     \u001b[1;32mraise\u001b[0m \u001b[0me1\u001b[0m\u001b[1;33m\u001b[0m\u001b[1;33m\u001b[0m\u001b[0m\n\u001b[0m\u001b[0;32m   4420\u001b[0m             \u001b[1;32mexcept\u001b[0m \u001b[0mException\u001b[0m\u001b[1;33m:\u001b[0m\u001b[1;33m\u001b[0m\u001b[1;33m\u001b[0m\u001b[0m\n\u001b[0;32m   4421\u001b[0m                 \u001b[1;32mraise\u001b[0m \u001b[0me1\u001b[0m\u001b[1;33m\u001b[0m\u001b[1;33m\u001b[0m\u001b[0m\n",
      "\u001b[1;32m~\\anaconda3\\lib\\site-packages\\pandas\\core\\indexes\\base.py\u001b[0m in \u001b[0;36mget_value\u001b[1;34m(self, series, key)\u001b[0m\n\u001b[0;32m   4403\u001b[0m         \u001b[0mk\u001b[0m \u001b[1;33m=\u001b[0m \u001b[0mself\u001b[0m\u001b[1;33m.\u001b[0m\u001b[0m_convert_scalar_indexer\u001b[0m\u001b[1;33m(\u001b[0m\u001b[0mk\u001b[0m\u001b[1;33m,\u001b[0m \u001b[0mkind\u001b[0m\u001b[1;33m=\u001b[0m\u001b[1;34m\"getitem\"\u001b[0m\u001b[1;33m)\u001b[0m\u001b[1;33m\u001b[0m\u001b[1;33m\u001b[0m\u001b[0m\n\u001b[0;32m   4404\u001b[0m         \u001b[1;32mtry\u001b[0m\u001b[1;33m:\u001b[0m\u001b[1;33m\u001b[0m\u001b[1;33m\u001b[0m\u001b[0m\n\u001b[1;32m-> 4405\u001b[1;33m             \u001b[1;32mreturn\u001b[0m \u001b[0mself\u001b[0m\u001b[1;33m.\u001b[0m\u001b[0m_engine\u001b[0m\u001b[1;33m.\u001b[0m\u001b[0mget_value\u001b[0m\u001b[1;33m(\u001b[0m\u001b[0ms\u001b[0m\u001b[1;33m,\u001b[0m \u001b[0mk\u001b[0m\u001b[1;33m,\u001b[0m \u001b[0mtz\u001b[0m\u001b[1;33m=\u001b[0m\u001b[0mgetattr\u001b[0m\u001b[1;33m(\u001b[0m\u001b[0mseries\u001b[0m\u001b[1;33m.\u001b[0m\u001b[0mdtype\u001b[0m\u001b[1;33m,\u001b[0m \u001b[1;34m\"tz\"\u001b[0m\u001b[1;33m,\u001b[0m \u001b[1;32mNone\u001b[0m\u001b[1;33m)\u001b[0m\u001b[1;33m)\u001b[0m\u001b[1;33m\u001b[0m\u001b[1;33m\u001b[0m\u001b[0m\n\u001b[0m\u001b[0;32m   4406\u001b[0m         \u001b[1;32mexcept\u001b[0m \u001b[0mKeyError\u001b[0m \u001b[1;32mas\u001b[0m \u001b[0me1\u001b[0m\u001b[1;33m:\u001b[0m\u001b[1;33m\u001b[0m\u001b[1;33m\u001b[0m\u001b[0m\n\u001b[0;32m   4407\u001b[0m             \u001b[1;32mif\u001b[0m \u001b[0mlen\u001b[0m\u001b[1;33m(\u001b[0m\u001b[0mself\u001b[0m\u001b[1;33m)\u001b[0m \u001b[1;33m>\u001b[0m \u001b[1;36m0\u001b[0m \u001b[1;32mand\u001b[0m \u001b[1;33m(\u001b[0m\u001b[0mself\u001b[0m\u001b[1;33m.\u001b[0m\u001b[0mholds_integer\u001b[0m\u001b[1;33m(\u001b[0m\u001b[1;33m)\u001b[0m \u001b[1;32mor\u001b[0m \u001b[0mself\u001b[0m\u001b[1;33m.\u001b[0m\u001b[0mis_boolean\u001b[0m\u001b[1;33m(\u001b[0m\u001b[1;33m)\u001b[0m\u001b[1;33m)\u001b[0m\u001b[1;33m:\u001b[0m\u001b[1;33m\u001b[0m\u001b[1;33m\u001b[0m\u001b[0m\n",
      "\u001b[1;32mpandas\\_libs\\index.pyx\u001b[0m in \u001b[0;36mpandas._libs.index.IndexEngine.get_value\u001b[1;34m()\u001b[0m\n",
      "\u001b[1;32mpandas\\_libs\\index.pyx\u001b[0m in \u001b[0;36mpandas._libs.index.IndexEngine.get_value\u001b[1;34m()\u001b[0m\n",
      "\u001b[1;32mpandas\\_libs\\index.pyx\u001b[0m in \u001b[0;36mpandas._libs.index.IndexEngine.get_loc\u001b[1;34m()\u001b[0m\n",
      "\u001b[1;32mpandas\\_libs\\index.pyx\u001b[0m in \u001b[0;36mpandas._libs.index.IndexEngine._get_loc_duplicates\u001b[1;34m()\u001b[0m\n",
      "\u001b[1;32mpandas\\_libs\\index.pyx\u001b[0m in \u001b[0;36mpandas._libs.index.IndexEngine._maybe_get_bool_indexer\u001b[1;34m()\u001b[0m\n",
      "\u001b[1;31mKeyError\u001b[0m: 'I hate you'"
     ]
    }
   ],
   "source": [
    "recommendations(\"I hate you\")"
   ]
  },
  {
   "cell_type": "code",
   "execution_count": null,
   "metadata": {},
   "outputs": [],
   "source": []
  }
 ],
 "metadata": {
  "kernelspec": {
   "display_name": "Python 3",
   "language": "python",
   "name": "python3"
  },
  "language_info": {
   "codemirror_mode": {
    "name": "ipython",
    "version": 3
   },
   "file_extension": ".py",
   "mimetype": "text/x-python",
   "name": "python",
   "nbconvert_exporter": "python",
   "pygments_lexer": "ipython3",
   "version": "3.8.3-final"
  }
 },
 "nbformat": 4,
 "nbformat_minor": 4
}